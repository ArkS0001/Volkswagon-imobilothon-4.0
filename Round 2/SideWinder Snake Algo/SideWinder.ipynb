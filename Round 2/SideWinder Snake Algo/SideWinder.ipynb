{
  "nbformat": 4,
  "nbformat_minor": 0,
  "metadata": {
    "colab": {
      "provenance": []
    },
    "kernelspec": {
      "name": "python3",
      "display_name": "Python 3"
    },
    "language_info": {
      "name": "python"
    }
  },
  "cells": [
    {
      "cell_type": "code",
      "execution_count": 1,
      "metadata": {
        "colab": {
          "base_uri": "https://localhost:8080/"
        },
        "id": "0Zvdw7eLoPZW",
        "outputId": "69759fea-f516-4601-ca8d-dd68006ae37a"
      },
      "outputs": [
        {
          "output_type": "stream",
          "name": "stdout",
          "text": [
            "\n",
            "Starting cycle\n",
            "Charging Section 0: +100 units\n",
            "Charging Section 1: +36 units\n",
            "Discharging Section 0: -43 units\n",
            "\n",
            "Starting cycle\n",
            "Charging Section 2: +61 units\n",
            "Discharging Section 2: -40 units\n",
            "\n",
            "Starting cycle\n",
            "Charging Section 3: +67 units\n",
            "Discharging Section 3: -35 units\n"
          ]
        }
      ],
      "source": [
        "import random\n",
        "\n",
        "class BatterySection:\n",
        "    def __init__(self, section_id, capacity, health=100):\n",
        "        self.section_id = section_id\n",
        "        self.capacity = capacity  # Max capacity of the section\n",
        "        self.charge = 0  # Current charge level\n",
        "        self.health = health  # Health level (0-100)\n",
        "        self.overload_threshold = capacity * 0.8  # Threshold for avoiding overload\n",
        "\n",
        "    def charge_section(self, amount):\n",
        "        if self.charge + amount <= self.capacity:\n",
        "            self.charge += amount\n",
        "            return True\n",
        "        return False\n",
        "\n",
        "    def discharge_section(self, amount):\n",
        "        if self.charge >= amount:\n",
        "            self.charge -= amount\n",
        "            return True\n",
        "        return False\n",
        "\n",
        "    def needs_charge(self):\n",
        "        return self.charge < self.capacity * 0.5  # Define a low-charge threshold\n",
        "\n",
        "class SidewinderBatteryOptimizer:\n",
        "    def __init__(self, sections):\n",
        "        self.sections = sections  # List of BatterySection objects\n",
        "\n",
        "    def charge_sections(self, total_energy):\n",
        "        # Distribute energy using zigzag pattern to avoid overload\n",
        "        for section in sorted(self.sections, key=lambda x: x.charge):\n",
        "            if section.needs_charge() and total_energy > 0:\n",
        "                energy_to_charge = min(section.capacity - section.charge, total_energy)\n",
        "                if section.charge_section(energy_to_charge):\n",
        "                    total_energy -= energy_to_charge\n",
        "                    print(f\"Charging Section {section.section_id}: +{energy_to_charge} units\")\n",
        "\n",
        "    def discharge_sections(self, demand):\n",
        "        # Use zigzag pattern to discharge and balance load across sections\n",
        "        for section in sorted(self.sections, key=lambda x: -x.charge):\n",
        "            if section.charge > 0 and demand > 0:\n",
        "                energy_to_discharge = min(section.charge, demand)\n",
        "                if section.discharge_section(energy_to_discharge):\n",
        "                    demand -= energy_to_discharge\n",
        "                    print(f\"Discharging Section {section.section_id}: -{energy_to_discharge} units\")\n",
        "\n",
        "    def manage_section_health(self):\n",
        "        # Adjust priorities based on section health\n",
        "        for section in self.sections:\n",
        "            if section.health < 60:\n",
        "                print(f\"Section {section.section_id} has low health ({section.health}%), adjusting usage.\")\n",
        "                # Reduce charge/discharge to avoid further degradation\n",
        "                section.capacity *= 0.9\n",
        "\n",
        "    def run_cycle(self, charge_amount, discharge_amount):\n",
        "        print(\"\\nStarting cycle\")\n",
        "        self.charge_sections(charge_amount)\n",
        "        self.discharge_sections(discharge_amount)\n",
        "        self.manage_section_health()\n",
        "\n",
        "# Sample battery sections\n",
        "sections = [BatterySection(section_id=i, capacity=100) for i in range(5)]\n",
        "optimizer = SidewinderBatteryOptimizer(sections)\n",
        "\n",
        "# Simulate charging and discharging cycles\n",
        "for cycle in range(3):\n",
        "    optimizer.run_cycle(charge_amount=random.randint(50, 150), discharge_amount=random.randint(30, 100))\n"
      ]
    }
  ]
}